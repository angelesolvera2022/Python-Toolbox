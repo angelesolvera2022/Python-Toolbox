{
 "cells": [
  {
   "cell_type": "markdown",
   "id": "f431a86b-a2a7-4828-a5ba-a59f72db3399",
   "metadata": {},
   "source": [
    "1. **Problem identification**\n",
    "\n",
    "2. Data wrangling\n",
    "\n",
    "3. Exploratory data analysis\n",
    "\n",
    "4. Prep-processing and training data development \n",
    "\n",
    "5. Modeling (Machine learning steps)\n",
    "\n",
    "6. Documentation"
   ]
  },
  {
   "cell_type": "markdown",
   "id": "41737889-7b12-4d9a-b8ee-bb9fb1577791",
   "metadata": {},
   "source": [
    "<div class=\"span5 alert alert-success\">\n",
    "<h3>Problem Identification</h3>\n",
    "\n",
    "- the process of defining a problem you want to solve and identifying what you want to accomplish by solving that problem\n",
    "\n",
    "**Context** : What are you working on this problem?\n",
    "\n",
    "**Criteria for success**: what is the key criteria that to deem this work successful?\n",
    "\n",
    "**Scope of solution space**: What is the focus of this business initiative? I.e what specific items will you focus on exclusively?\n",
    "\n",
    "**Constraints within solution space**: What constraints exist that may prevent this business initiative from succeeding?\n",
    "\n",
    "**Stakeholders to provide key insight**: Who are the stakeholders that need to involve in this project? \n",
    "Where will you source your data from and who will you present your recommendation to once you have identified a solution?\n",
    "\n",
    "**Key data sources**: What are they key pieces of data you need to answer the questions related to the problem you are trying to solve?"
   ]
  }
 ],
 "metadata": {
  "kernelspec": {
   "display_name": "Python (myenv)",
   "language": "python",
   "name": "myenv"
  },
  "language_info": {
   "codemirror_mode": {
    "name": "ipython",
    "version": 3
   },
   "file_extension": ".py",
   "mimetype": "text/x-python",
   "name": "python",
   "nbconvert_exporter": "python",
   "pygments_lexer": "ipython3",
   "version": "3.11.9"
  }
 },
 "nbformat": 4,
 "nbformat_minor": 5
}
