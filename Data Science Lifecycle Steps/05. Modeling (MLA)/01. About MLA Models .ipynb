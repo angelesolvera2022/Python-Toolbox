{
 "cells": [
  {
   "cell_type": "markdown",
   "id": "714b337a-8ae5-48d4-8fa3-a66ef60e49d0",
   "metadata": {},
   "source": [
    "1. Problem identification \n",
    "\n",
    "2. Data wrangling\n",
    "\n",
    "3. Exploratory data analysis\n",
    "\n",
    "4. Prep-processing and training data development\n",
    "\n",
    "5. **Modeling (Machine learning steps)**\n",
    "\n",
    "6. Documentation"
   ]
  },
  {
   "cell_type": "markdown",
   "id": "e16ea765-2bb4-4425-af5d-9914643bc761",
   "metadata": {},
   "source": [
    "<div class=\"span5 alert alert-warning\">\n",
    "<h3>Machine Learning Algorithms Categories</h3>"
   ]
  },
  {
   "cell_type": "markdown",
   "id": "9edcabfb-4d4e-4f4b-84e9-0ede3227af96",
   "metadata": {},
   "source": [
    "## <font color='lightcoral'><b>Supervised vs Unsupervised learning</b></font> \n",
    "\n",
    "**Supervised Learning** - predits labels\n",
    "- The goal is to learn patterns from labeled data so that when new data appears, the system can accurately predict the correct output.\n",
    "- Labeled data is data that has already been categorized as something. Example : In a fraud detection system, labels might be “fraudulent” or “legitimate.”\n",
    "- The new data is unlabeled, the model applies what it learned from the labeled training data to make predictions. The model itself predicts labels based on patterns it has learned.\n",
    "- Common Techniques\n",
    "\n",
    "        Regression Algorithms : Linear and logistic regression  \n",
    "        Classification Algorithms: Decision Tree, Random Forest, Suport Vector Machines\n",
    "        Neural Networks & Deep Learning\n",
    "        \n",
    "  \n",
    "**Unsupervised Learning** - predicts patterns\n",
    "- The model is given unlabeled data and must find patterns, groupings, or structures on its own—without predefined labels. Instead of predicting labels, it identifies hidden patterns in data\n",
    "- Common techniques:\n",
    "\n",
    "        Clustering Models : K- means clustering, Hierarchical Clustering\n",
    "        Dimensionality reduction : Principal Component Analysis (PCA)\n",
    "        Anomaly detection : Isolation Forest, One-Class SVM\n",
    "\n"
   ]
  },
  {
   "cell_type": "markdown",
   "id": "9ab6deec-475c-4afd-b4f2-6d93a53ba215",
   "metadata": {},
   "source": [
    "## <font color='lightcoral'><b>Semi-supervised learning</b></font> \n",
    "\n",
    "\n",
    "- Is a machine learning approach that combines elements of both supervised and unsupervised learning. It is used when we have a large amount of unlabeled data but only a small portion of labeled data to work with.\n",
    "- It first learns from labeled data, then applies that knowledge to uncover patterns in unlabeled data.\n",
    "\n",
    "Example: Image Classification\n",
    "        \n",
    "        1. Imagine you have 10,000 images, but only 1,000 have labels (e.g., “cat,” “dog”).\n",
    "        2.A supervised model is trained using the 1,000 labeled images.\n",
    "        3.It then applies what it learned to the remaining 9,000 unlabeled images to classify them with greater accuracy.\n",
    "        4.This improves the model's performance compared to only using the labeled dataset."
   ]
  },
  {
   "cell_type": "markdown",
   "id": "b7ac6ba6-932e-4e06-b720-352e421a4e83",
   "metadata": {},
   "source": [
    "## <font color='lightcoral'><b>Batch vs Online learning</b></font> \n",
    "\n",
    "\n",
    "\n",
    "**Batch Learning** \n",
    "- The model is fed a large batch of data and trained on it before deployment.\n",
    "- It does not update or learn new patterns once deployed.\n",
    "- If new data becomes available, the entire model must be retrained from scratch.\n",
    "- Batch learning models are ideal for stable datasets where frequent updates aren't required.\n",
    "\n",
    "Coomon Models \n",
    "\n",
    "        Regression Algorithms : Linear and logistic regression\n",
    "        Classification Algorithms: Decision Tree, Random Forest, Support Vector Machines\n",
    "        Neural Networks & Deep Learning\n",
    "\n",
    "\n",
    "**Online Learning**\n",
    "- Models are trained incrementally as new data arrives, rather than being trained all at once like in batch learning.\n",
    "- Can adjust to new patterns in data without needing full retraining.\n",
    "- Works well with large-scale or continuously generated data.\n",
    "\n",
    "Common Models \n",
    "\n",
    "        Online Regression Models: Stochastic Gradient Descent (SGD) Regression, Online Bayesian Linear Regression\n",
    "        Online Classification Models :Online Support Vector Machines\n",
    "        Online Clustering Models: Incremental K-Means\n",
    "        Online Neural Networks: Adaptive Neural Networks"
   ]
  },
  {
   "cell_type": "code",
   "execution_count": null,
   "id": "cdc4a8c5-4f3e-4f85-bcf9-5ca7e3eb6005",
   "metadata": {},
   "outputs": [],
   "source": []
  },
  {
   "cell_type": "code",
   "execution_count": null,
   "id": "7001b0f9-ac1a-4e04-a2db-b1632d52b96f",
   "metadata": {},
   "outputs": [],
   "source": []
  },
  {
   "cell_type": "code",
   "execution_count": null,
   "id": "c6eb442b-dd97-470d-9bfd-370b826be447",
   "metadata": {},
   "outputs": [],
   "source": []
  }
 ],
 "metadata": {
  "kernelspec": {
   "display_name": "Python (myenv)",
   "language": "python",
   "name": "myenv"
  },
  "language_info": {
   "codemirror_mode": {
    "name": "ipython",
    "version": 3
   },
   "file_extension": ".py",
   "mimetype": "text/x-python",
   "name": "python",
   "nbconvert_exporter": "python",
   "pygments_lexer": "ipython3",
   "version": "3.11.9"
  }
 },
 "nbformat": 4,
 "nbformat_minor": 5
}
