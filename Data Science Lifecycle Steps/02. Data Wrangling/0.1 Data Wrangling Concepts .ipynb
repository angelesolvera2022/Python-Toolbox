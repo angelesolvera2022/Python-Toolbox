{
 "cells": [
  {
   "cell_type": "markdown",
   "id": "ce0d3648-f7e8-4801-b7fa-08432579a568",
   "metadata": {},
   "source": [
    "1. Problem identification \n",
    "\n",
    "2. **Data wrangling**\n",
    "\n",
    "3. Exploratory data analysis\n",
    "\n",
    "4. Prep-processing and training data development \n",
    "\n",
    "5. Modeling (Machine learning steps)\n",
    "\n",
    "6. Documentation"
   ]
  },
  {
   "cell_type": "markdown",
   "id": "1e7b1417-52ac-4b77-9317-89ca8622af6c",
   "metadata": {},
   "source": [
    "<div class=\"span5 alert alert-warning\">\n",
    "<h3>Data Wrangling</h3>\n",
    " \n",
    "**involves taking raw data and preparing it for processing and analysis**\n",
    "\n",
    "\n",
    "Do you think you may have the data you need to tackle the desired question?\n",
    "\n",
    "Have you identified the required target value? (what are you predicting)\n",
    "\n",
    "Do you have potentially useful features? (many columns)\n",
    "\n",
    "Do you have any fundamental issues with the data? (yes)"
   ]
  },
  {
   "cell_type": "markdown",
   "id": "1221bdb7-6c0e-4392-ba0b-fdef43c6120b",
   "metadata": {},
   "source": [
    "<div class=\"span5 alert alert-warning\">\n",
    "<h3>What Interviewers Are Look For</h3>\n",
    "\n",
    "- When explaining a project explain complexity obtaining the data. Was it provided by someone, did you have to extract it from somewhere?\n",
    "  \n",
    "- Have both business understanding and data understanding of the data and problem. \n",
    "\n",
    "- Data cleaning techniques understanding like histograms, data distributions, how skewness and kurtosis is handled rather than saying you dropped the missing values and duplicates. "
   ]
  },
  {
   "cell_type": "markdown",
   "id": "e45dc545-14f9-4545-9021-7aa6610df905",
   "metadata": {},
   "source": [
    "**<span style=\"background-color: peachpuff;\">Explore all data and columns that might have what youre looking for. What do you need to clean?</span>**\n",
    "\n",
    "**All data**\n",
    "- `data.shape()`\n",
    "- `data.info()`\n",
    "- `data.describe()`\n",
    "\n",
    "**Column Exploration**\n",
    "- `data[data.columnname == \" \"].T`\n",
    "- `data[\"column\"].unique`\n",
    "- `data[\"column\"].nunique`\n",
    "- `data[\"column\"].value_counts()`\n",
    "- `(data[\"column\"] + ', ' + data['column']).value_counts()`\n"
   ]
  },
  {
   "cell_type": "markdown",
   "id": "524c8920-b29f-42f0-8380-d14c852c0b27",
   "metadata": {},
   "source": [
    "**<span style=\"background-color: peachpuff;\">Deal with missing values (see \"Missing Values\" file for more in debt explanation)</span>**\n",
    "\n",
    "- Removing specific rows/columns with excessive missing values.\n",
    "\n",
    "- Filling missing values with mean, median, mode, or other appropriate values.\n",
    "\n",
    "        - This depends on the skweness of the data\n",
    "\n",
    "        - Mean vs. Median Imputation:\n",
    "\n",
    "            If the distribution is normal, mean might be fine.\n",
    "\n",
    "            If it's skewed, median is more robust.\n",
    "\n",
    "        - Mode Imputation for Categoricals:\n",
    "\n",
    "            You need to know the frequency distribution to choose the most representative value.\n",
    "\n",
    "- Imputing missing values using more sophisticated methods (e.g., regression, KNN)."
   ]
  },
  {
   "cell_type": "markdown",
   "id": "42c50536-d5da-4ba5-b58c-80f6ce1dc800",
   "metadata": {},
   "source": [
    "**<span style=\"background-color: peachpuff;\">Methods</span>**\n",
    "\n",
    "- `data.isnull().sum()`\n",
    "- create a new DF showing the percentage of missing values per column:\n",
    "\n",
    "    - ``` python\n",
    "      missing = pd.concat([data.isnull().sum(), 100 * data.isnull().mean()], axis=1)\n",
    "      missing.columns = ['count', '%']\n",
    "      missing.sort_values(by='count', ascending=False)\n",
    "      \n",
    "      ````\n",
    "\n",
    "\n",
    "      \n",
    "\n",
    "\n",
    "\n",
    " - Are any columns with high percentage of missing values?\n",
    " - This could be due to column being categorical and a number representing something. For exaple boolean 0 = no and 1 = yes.\n"
   ]
  },
  {
   "cell_type": "markdown",
   "id": "04b11861-2d73-4910-b1af-e7f32f36c521",
   "metadata": {},
   "source": [
    "**<span style=\"background-color: peachpuff;\">Investigate Outliers</span>**\n",
    "\n",
    "- Box plots are useful for visualizing the spread of the data and identifying outliers.\n",
    "- A histogram can also show any obiouse outliers. Outliers are bars that are isolated from the rest of where the data is clustered. When the distribution is skewed the tail of the distribution can also represent outliers.\n",
    "- Depending on the business problem you will need to keep or remove them but this step is left for 0.3 Exploratory analysis. Here we only investigate the outliers. \n",
    "\n",
    "\n",
    "- **To compare multiple columns with boxplot**\n",
    "\n",
    "    ```python \n",
    "    plt.subplots(figsize=(12, 8))\n",
    "    sns.boxplot(x=\"column \", y=\"column\", hue=\"column\", data= data)\n",
    "    plt.xticks(rotation=\"vertical\")\n",
    "    plt.ylabel(\" something \")\n",
    "    plt.xlabel(\"something\")\n",
    "    plt.show()\n",
    "    ```\n"
   ]
  },
  {
   "cell_type": "markdown",
   "id": "f8e3e05d-0334-4a5f-9d04-9178d90ba5e3",
   "metadata": {},
   "source": [
    "**<span style=\"background-color: peachpuff;\">Deal with Duplicates</span>**\n",
    "\n",
    "- verify if they are actually duplicates if they are drop the extras.\n",
    "\n",
    "- `duplicates = data.duplicated()`\n",
    "- `duplicates_sum = duplicates.sum()`\n",
    "\n",
    "**Verify they are duplicates**\n",
    "\n",
    "- `data[data['column'] == 'duplicate']`\n",
    "  \n",
    "**Completed duplicates vs Incomplete duplicates** \n",
    "- Completed duplicates - full row is the same as other rows\n",
    "- incomplete duplicate - only certain columns of the row are duplicates not all\n",
    "- If you want to return incomplete run following code \n",
    "\n",
    "    - `data.duplicated(subset=['columnname', 'columnname'], keep=False)`\n",
    "\n",
    " - If you want to return the completed duplicates run the following\n",
    "    - `duplicates = data[data.duplicated(keep=False)]`\n",
    "\n",
    "**Drop them if they are duplicates** \n",
    "\n",
    "- `data_cleaned = data.drop_duplicates()` \n",
    "  \n"
   ]
  },
  {
   "cell_type": "markdown",
   "id": "32ad1654-981b-42c4-a328-23da81fbc029",
   "metadata": {},
   "source": [
    "**<span style=\"background-color: peachpuff;\">Data Types Transformations</span>**\n",
    "\n",
    "- Making sure all data types are correct in this steps prepares the data for analysis in EDA and Modeling\n",
    "\n",
    "        - Operations behave correctly (e.g., sorting dates chronologically)\n",
    "        \n",
    "        - Statistical functions don’t break (e.g., mean of strings = 💥)\n",
    "        \n",
    "        - Machine learning algorithms receive the right input formats\n",
    "  \n",
    "\n"
   ]
  },
  {
   "cell_type": "markdown",
   "id": "61db2c25-5726-42ec-afde-5f7dc8c36979",
   "metadata": {},
   "source": [
    "```python\n",
    "    \n",
    "# Convert string to datetime\n",
    "df['date'] = pd.to_datetime(df['date_column'])\n",
    "    \n",
    "# Convert float to integer\n",
    "df['score'] = df['score'].astype(int)\n",
    "    \n",
    "# Convert object to category\n",
    "df['category'] = df['category'].astype('category')\n",
    "    "
   ]
  },
  {
   "cell_type": "markdown",
   "id": "0c0d11ee-be77-46b6-904b-579db0ef5291",
   "metadata": {},
   "source": [
    "**<span style=\"background-color: peachpuff;\">Text Cleaning</span>**\n",
    "\n",
    "- Cleaning up categorical values prepares data for analysis and modeling. \n",
    "\n",
    "\n",
    "```python\n",
    "\n",
    "# Lowercase and remove punctuation\n",
    "df['clean_text'] = df['text'].str.lower().str.replace(r'[^\\w\\s]', '', regex=True)\n",
    "\n",
    "#remove non alphabetical characters \n",
    "df['clean_text'] = df['clean_text'].str.replace(r'[^a-zA-Z\\s]', '', regex=True)\n",
    "\n",
    "#split words\n",
    "df['tokens'] = df['clean_text'].str.split()\n",
    "\n",
    "\n"
   ]
  },
  {
   "cell_type": "code",
   "execution_count": null,
   "id": "0d85a462-20ab-4bcb-a15b-7a4c5ea11a9a",
   "metadata": {},
   "outputs": [],
   "source": []
  }
 ],
 "metadata": {
  "kernelspec": {
   "display_name": "Python (myenv)",
   "language": "python",
   "name": "myenv"
  },
  "language_info": {
   "codemirror_mode": {
    "name": "ipython",
    "version": 3
   },
   "file_extension": ".py",
   "mimetype": "text/x-python",
   "name": "python",
   "nbconvert_exporter": "python",
   "pygments_lexer": "ipython3",
   "version": "3.11.9"
  }
 },
 "nbformat": 4,
 "nbformat_minor": 5
}
