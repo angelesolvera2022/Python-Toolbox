{
 "cells": [
  {
   "cell_type": "markdown",
   "id": "0bfea6d9-185d-47ab-b012-c1159b649507",
   "metadata": {},
   "source": [
    "## Data Wrangling & Pre-Processing"
   ]
  },
  {
   "cell_type": "markdown",
   "id": "be6bc819-b778-476e-b1b2-3e8d43ee06e3",
   "metadata": {},
   "source": [
    "**<span style=\"color: lightcoral;\">Image Data Cleaning</span>**\n",
    "\n",
    "- Remove duplicates to avoid bias in training.\n",
    "  \n",
    "- Handle missing or corrupted images by filtering out unreadable files.\n",
    "\n",
    "- Standardize image sizes to maintain uniformity across the dataset.\n",
    "\n",
    "**<span style=\"color: lightcoral;\">Image Preprocessing</span>**\n",
    "\n",
    "- Resizing: Adjust images to a fixed size for model compatibility.\n",
    "\n",
    "- Normalization: Scale pixel values (e.g., between 0 and 1) to improve model performance.\n",
    "\n",
    "- Contrast Enhancement: Apply techniques like histogram equalization to improve visibility.\n",
    "\n",
    "- Noise Reduction: Use Gaussian blur or median filtering to remove unwanted artifacts.\n",
    "\n",
    "**<span style=\"color: lightcoral;\">Image Data Augmentation</span>**\n",
    "\n",
    "- Rotation, flipping, cropping to increase dataset diversity.\n",
    "\n",
    "- Color adjustments (brightness, saturation) to simulate real-world variations.\n",
    "\n",
    "Adding synthetic noise to improve robustness against distortions.\n"
   ]
  }
 ],
 "metadata": {
  "kernelspec": {
   "display_name": "Python 3 (ipykernel)",
   "language": "python",
   "name": "python3"
  },
  "language_info": {
   "codemirror_mode": {
    "name": "ipython",
    "version": 3
   },
   "file_extension": ".py",
   "mimetype": "text/x-python",
   "name": "python",
   "nbconvert_exporter": "python",
   "pygments_lexer": "ipython3",
   "version": "3.12.7"
  }
 },
 "nbformat": 4,
 "nbformat_minor": 5
}
